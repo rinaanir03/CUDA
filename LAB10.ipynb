{
  "nbformat": 4,
  "nbformat_minor": 0,
  "metadata": {
    "colab": {
      "provenance": []
    },
    "kernelspec": {
      "name": "python3",
      "display_name": "Python 3"
    },
    "language_info": {
      "name": "python"
    },
    "accelerator": "GPU",
    "gpuClass": "standard"
  },
  "cells": [
    {
      "cell_type": "code",
      "execution_count": null,
      "metadata": {
        "colab": {
          "base_uri": "https://localhost:8080/"
        },
        "id": "2bPzC7wB029L",
        "outputId": "9a70cd89-2a77-4716-a5bf-998e41ef1d9e"
      },
      "outputs": [
        {
          "output_type": "stream",
          "name": "stdout",
          "text": [
            "nvcc: NVIDIA (R) Cuda compiler driver\n",
            "Copyright (c) 2005-2021 NVIDIA Corporation\n",
            "Built on Sun_Feb_14_21:12:58_PST_2021\n",
            "Cuda compilation tools, release 11.2, V11.2.152\n",
            "Build cuda_11.2.r11.2/compiler.29618528_0\n"
          ]
        }
      ],
      "source": [
        "!nvcc --version"
      ]
    },
    {
      "cell_type": "code",
      "source": [
        "!pip install git+https://github.com/andreinechaev/nvcc4jupyter.git"
      ],
      "metadata": {
        "colab": {
          "base_uri": "https://localhost:8080/"
        },
        "id": "aoGcjNlk1Doh",
        "outputId": "ba330bb9-4fcb-4ef4-db30-290e3e70e320"
      },
      "execution_count": null,
      "outputs": [
        {
          "output_type": "stream",
          "name": "stdout",
          "text": [
            "Looking in indexes: https://pypi.org/simple, https://us-python.pkg.dev/colab-wheels/public/simple/\n",
            "Collecting git+https://github.com/andreinechaev/nvcc4jupyter.git\n",
            "  Cloning https://github.com/andreinechaev/nvcc4jupyter.git to /tmp/pip-req-build-xm7hy3pm\n",
            "  Running command git clone --filter=blob:none --quiet https://github.com/andreinechaev/nvcc4jupyter.git /tmp/pip-req-build-xm7hy3pm\n",
            "  Resolved https://github.com/andreinechaev/nvcc4jupyter.git to commit aac710a35f52bb78ab34d2e52517237941399eff\n",
            "  Preparing metadata (setup.py) ... \u001b[?25l\u001b[?25hdone\n",
            "Building wheels for collected packages: NVCCPlugin\n",
            "  Building wheel for NVCCPlugin (setup.py) ... \u001b[?25l\u001b[?25hdone\n",
            "  Created wheel for NVCCPlugin: filename=NVCCPlugin-0.0.2-py3-none-any.whl size=4304 sha256=7c4020a16c7dfc809cd5641310a7d1b8131df60b64512ad88e37da88b145b740\n",
            "  Stored in directory: /tmp/pip-ephem-wheel-cache-mufsdl6y/wheels/f3/08/cc/e2b5b0e1c92df07dbb50a6f024a68ce090f5e7b2316b41756d\n",
            "Successfully built NVCCPlugin\n",
            "Installing collected packages: NVCCPlugin\n",
            "Successfully installed NVCCPlugin-0.0.2\n"
          ]
        }
      ]
    },
    {
      "cell_type": "code",
      "source": [
        "%load_ext nvcc_plugin"
      ],
      "metadata": {
        "colab": {
          "base_uri": "https://localhost:8080/"
        },
        "id": "MVe_vOEH2nrq",
        "outputId": "fc599578-88f2-436b-919d-5a8de1608d4d"
      },
      "execution_count": null,
      "outputs": [
        {
          "output_type": "stream",
          "name": "stdout",
          "text": [
            "created output directory at /content/src\n",
            "Out bin /content/result.out\n"
          ]
        }
      ]
    },
    {
      "cell_type": "markdown",
      "source": [
        "Prostokątów GPU"
      ],
      "metadata": {
        "id": "3se2bL1j4d3V"
      }
    },
    {
      "cell_type": "code",
      "source": [
        "%%cu\n",
        "#include <stdio.h>\n",
        "#include <iostream>\n",
        "using namespace std;\n",
        "__device__ float myfunction(float a)\n",
        "{\n",
        "return 7*a*a + a + 7.0f;\n",
        "}\n",
        "// funkcja kernel do obliczenia sumy wykorzystanej w metodzie prostokątów\n",
        "__global__ void integratorKernel(float *a, float x0, float h, int N)\n",
        "{\n",
        "int idx = blockIdx.x * blockDim.x + threadIdx.x;\n",
        "float x = x0 + (float)idx * h;\n",
        "if (idx<N)\n",
        "{\n",
        "a[idx] = myfunction(x) + myfunction(x + h);\n",
        "}\n",
        "}\n",
        "//cudaIntegrate() jest funkcją hosta, która ustawia obliczenia całki po przedziale [x0,xn]\n",
        "__host__ float cudaIntegrate(float x0, float xn, int N)\n",
        "{\n",
        "// obliczenie h (wysokości prostokątów) potrzebnego do wzoru\n",
        "float h = (xn-x0)/N;\n",
        "// zmienna kodu błędu\n",
        "cudaError_t errorcode = cudaSuccess;\n",
        "// wielkość tablic w bitach\n",
        "int size = N*sizeof(float);\n",
        "// przydzielenie tablic dla hosta i urządzenia\n",
        "float* a_h = (float *)malloc(size);\n",
        "float* a_d;\n",
        "if (( errorcode = cudaMalloc((void **)&a_d,size))!= cudaSuccess)\n",
        "{\n",
        "cout << \"cudaMalloc(): \" << cudaGetErrorString(errorcode) << endl;\n",
        "exit(1);\n",
        "}\n",
        "// obliczenia na urządzeniu\n",
        "int block_size = 256;\n",
        "int n_blocks = N/block_size + ( N % block_size == 0 ? 0:1);\n",
        "integratorKernel <<< n_blocks, block_size >>> (a_d, x0, h, N);\n",
        "// skopiowanie wyników z urządzenia na hosta\n",
        "if((errorcode = cudaMemcpy(a_h, a_d, sizeof(float)*N, cudaMemcpyDeviceToHost))!=cudaSuccess)\n",
        "{\n",
        "cout << \"cudaMemcpy(): \" << cudaGetErrorString(errorcode) << endl;\n",
        "exit(1);\n",
        "}\n",
        "// zsumowanie wyników\n",
        "float sum = 0.0;\n",
        "for(int i=0; i<N; i++) sum += a_h[i];\n",
        "sum *= h/2.0;\n",
        "// zwolnienie pamięci\n",
        "free(a_h);\n",
        "cudaFree(a_d);\n",
        "return sum;\n",
        "}\n",
        "// funkcja do pomiaru czasu wykonywania programu w mikro sekundach\n",
        "__host__ double diffclock(clock_t clock1, clock_t clock2)\n",
        "{\n",
        "double diffticks = clock1-clock2;\n",
        "double diffms = diffticks/(CLOCKS_PER_SEC/1000);\n",
        "return diffms;\n",
        "}\n",
        "// funkcja main\n",
        "int main()\n",
        "{\n",
        "clock_t start = clock();\n",
        "float answer = cudaIntegrate(0.0,2.0,4096);\n",
        "clock_t end = clock();\n",
        "cout << \"Wynik to: \" << answer << endl;\n",
        "cout << \"Czas obliczeń: \" << diffclock(end,start);\n",
        "cout << \" mikro sekund\" << endl;\n",
        "return 0;\n",
        "}"
      ],
      "metadata": {
        "colab": {
          "base_uri": "https://localhost:8080/"
        },
        "id": "_w8jTaTk2r2Z",
        "outputId": "5cbc740a-5842-4665-f4aa-b2b3f5443b16"
      },
      "execution_count": null,
      "outputs": [
        {
          "output_type": "stream",
          "name": "stdout",
          "text": [
            "Wynik to: 34.6667\n",
            "Czas obliczeń: 727.286 mikro sekund\n",
            "\n"
          ]
        }
      ]
    },
    {
      "cell_type": "markdown",
      "source": [
        "Prostokątów CPU"
      ],
      "metadata": {
        "id": "rD5sVC4G4rC2"
      }
    },
    {
      "cell_type": "code",
      "source": [
        "%%cu\n",
        "#include <stdio.h>\n",
        "#include <iostream>\n",
        "using namespace std;\n",
        "\n",
        "float myfunction(float a)\n",
        "{\n",
        "return 7*a*a + a + 7.0f;\n",
        "}\n",
        "\n",
        "// funkcja hosta do obliczenia sumy wykorzystanej w metodzie prostokątów\n",
        "void integratorKernel(float *a, float x0, float h, int N)\n",
        "{\n",
        "    for(int idx = 0; idx < N; idx++)\n",
        "    {\n",
        "        float x = x0 + (float)idx * h;\n",
        "        a[idx] = myfunction(x) + myfunction(x + h);\n",
        "    }\n",
        "}\n",
        "\n",
        "// cudaIntegrate() jest funkcją hosta, która ustawia obliczenia całki po przedziale [x0,xn]\n",
        "float cudaIntegrate(float x0, float xn, int N)\n",
        "{\n",
        "    // obliczenie h (wysokości prostokątów) potrzebnego do wzoru\n",
        "    float h = (xn-x0)/N;\n",
        "    // wielkość tablic w bitach\n",
        "    int size = N*sizeof(float);\n",
        "    // przydzielenie tablic dla hosta \n",
        "    float* a_h = (float *)malloc(size);\n",
        "    // obliczenia na hosta\n",
        "    integratorKernel(a_h, x0, h, N);\n",
        "    // zsumowanie wyników\n",
        "    float sum = 0.0;\n",
        "    for(int i=0; i<N; i++) sum += a_h[i];\n",
        "    sum *= h/2.0;\n",
        "    // zwolnienie pamięci\n",
        "    free(a_h);\n",
        "    return sum;\n",
        "}\n",
        "\n",
        "// funkcja do pomiaru czasu wykonywania programu w mikro sekundach\n",
        "double diffclock(clock_t clock1, clock_t clock2)\n",
        "{\n",
        "double diffticks = clock1-clock2;\n",
        "double diffms = diffticks/(CLOCKS_PER_SEC/1000);\n",
        "return diffms;\n",
        "}\n",
        "\n",
        "int main()\n",
        "{\n",
        "clock_t start = clock();\n",
        "float answer = cudaIntegrate(0.0,2.0,4096);\n",
        "clock_t end = clock();\n",
        "cout << \"Wynik to: \" << answer << endl;\n",
        "cout << \"Czas obliczeń: \" << diffclock(end,start);\n",
        "cout << \" mikro sekund\" << endl;\n",
        "return 0;\n",
        "}"
      ],
      "metadata": {
        "colab": {
          "base_uri": "https://localhost:8080/"
        },
        "id": "70YgxM7S4oHA",
        "outputId": "e9b01a54-d9bb-48f9-e637-86e098a23a7c"
      },
      "execution_count": null,
      "outputs": [
        {
          "output_type": "stream",
          "name": "stdout",
          "text": [
            "Wynik to: 34.6667\n",
            "Czas obliczeń: 0.103 mikro sekund\n",
            "\n"
          ]
        }
      ]
    },
    {
      "cell_type": "markdown",
      "source": [
        "Trapezow GPU"
      ],
      "metadata": {
        "id": "pSP_D_zp42As"
      }
    },
    {
      "cell_type": "code",
      "source": [
        "%%cu\n",
        "#include <stdio.h>\n",
        "#include <iostream>\n",
        "using namespace std;\n",
        "\n",
        "__device__ float myfunction(float a)\n",
        "{\n",
        "return 7*a*a + a + 7.0f;\n",
        "}\n",
        "\n",
        "\n",
        "// funkcja kernel do obliczenia sumy wykorzystanej w metodzie trapezów\n",
        "__global__ void integratorKernel(float *a, float x0, float h, int N)\n",
        "{\n",
        "int idx = blockIdx.x * blockDim.x + threadIdx.x;\n",
        "float x = x0 + (float)idx * h;\n",
        "if (idx<N)\n",
        "{\n",
        "a[idx] = h * (myfunction(x + h));\n",
        "}\n",
        "}\n",
        "\n",
        "\n",
        "//cudaIntegrate() jest funkcją hosta, która ustawia obliczenia całki po przedziale [x0,xn]\n",
        "__host__ float cudaIntegrate(float x0, float xn, int N)\n",
        "{\n",
        "// obliczenie h (wysokości prostokątów) potrzebnego do wzoru\n",
        "float h = (xn-x0)/N;\n",
        "// zmienna kodu błędu\n",
        "cudaError_t errorcode = cudaSuccess;\n",
        "// wielkość tablic w bitach\n",
        "int size = N*sizeof(float);\n",
        "// przydzielenie tablic dla hosta i urządzenia\n",
        "float* a_h = (float *)malloc(size);\n",
        "float* a_d;\n",
        "if (( errorcode = cudaMalloc((void **)&a_d,size))!= cudaSuccess)\n",
        "{\n",
        "cout << \"cudaMalloc(): \" << cudaGetErrorString(errorcode) << endl;\n",
        "exit(1);\n",
        "}\n",
        "// obliczenia na urządzeniu\n",
        "int block_size = 256;\n",
        "int n_blocks = N/block_size + ( N % block_size == 0 ? 0:1);\n",
        "integratorKernel <<< n_blocks, block_size >>> (a_d, x0, h, N);\n",
        "// skopiowanie wyników z urządzenia na hosta\n",
        "if((errorcode = cudaMemcpy(a_h, a_d, sizeof(float)*N, cudaMemcpyDeviceToHost))!=cudaSuccess)\n",
        "{\n",
        "cout << \"cudaMemcpy(): \" << cudaGetErrorString(errorcode) << endl;\n",
        "exit(1);\n",
        "}\n",
        "// zsumowanie wyników\n",
        "float sum = 0.0;\n",
        "for(int i=0; i<N; i++) sum += a_h[i];\n",
        "// zwolnienie pamięci\n",
        "free(a_h);\n",
        "cudaFree(a_d);\n",
        "return sum;\n",
        "}\n",
        "// funkcja do pomiaru czasu wykonywania programu w mikro sekundach\n",
        "__host__ double diffclock(clock_t clock1, clock_t clock2)\n",
        "{\n",
        "double diffticks = clock1-clock2;\n",
        "double diffms = diffticks/(CLOCKS_PER_SEC/1000);\n",
        "return diffms;\n",
        "}\n",
        "// funkcja main\n",
        "int main()\n",
        "{\n",
        "clock_t start = clock();\n",
        "float answer = cudaIntegrate(0.0,2.0,4096);\n",
        "clock_t end = clock();\n",
        "cout << \"Wynik to: \" << answer << endl;\n",
        "cout << \"Czas obliczeń: \" << diffclock(end,start);\n",
        "cout << \" mikro sekund\" << endl;\n",
        "return 0;\n",
        "}"
      ],
      "metadata": {
        "colab": {
          "base_uri": "https://localhost:8080/"
        },
        "id": "phJnS6Bl498o",
        "outputId": "12427d49-291b-4b9a-8026-ce5e38c322a3"
      },
      "execution_count": null,
      "outputs": [
        {
          "output_type": "stream",
          "name": "stdout",
          "text": [
            "Wynik to: 34.674\n",
            "Czas obliczeń: 731.415 mikro sekund\n",
            "\n"
          ]
        }
      ]
    },
    {
      "cell_type": "markdown",
      "source": [
        "Trapezow CPU"
      ],
      "metadata": {
        "id": "7cFeVvsO5977"
      }
    },
    {
      "cell_type": "code",
      "source": [
        "%%cu\n",
        "#include <stdio.h>\n",
        "#include <iostream>\n",
        "using namespace std;\n",
        "\n",
        "float myfunction(float a)\n",
        "{\n",
        "return 7*a*a + a + 7.0f;\n",
        "}\n",
        "\n",
        "// funkcja hosta do obliczenia sumy wykorzystanej w metodzie prostokątów\n",
        "void integratorKernel(float *a, float x0, float h, int N)\n",
        "{\n",
        "    for(int idx = 0; idx < N; idx++)\n",
        "    {\n",
        "        float x = x0 + (float)idx * h;\n",
        "        a[idx] = h * (myfunction(x + h));\n",
        "    }\n",
        "}\n",
        "\n",
        "// cudaIntegrate() jest funkcją hosta, która ustawia obliczenia całki po przedziale [x0,xn]\n",
        "float cudaIntegrate(float x0, float xn, int N)\n",
        "{\n",
        "    // obliczenie h (wysokości prostokątów) potrzebnego do wzoru\n",
        "    float h = (xn-x0)/N;\n",
        "    // wielkość tablic w bitach\n",
        "    int size = N*sizeof(float);\n",
        "    // przydzielenie tablic dla hosta \n",
        "    float* a_h = (float *)malloc(size);\n",
        "    // obliczenia na hosta\n",
        "    integratorKernel(a_h, x0, h, N);\n",
        "    // zsumowanie wyników\n",
        "    float sum = 0.0;\n",
        "    for(int i=0; i<N; i++) sum += a_h[i];\n",
        "    // zwolnienie pamięci\n",
        "    free(a_h);\n",
        "    return sum;\n",
        "}\n",
        "\n",
        "// funkcja do pomiaru czasu wykonywania programu w mikro sekundach\n",
        "double diffclock(clock_t clock1, clock_t clock2)\n",
        "{\n",
        "double diffticks = clock1-clock2;\n",
        "double diffms = diffticks/(CLOCKS_PER_SEC/1000);\n",
        "return diffms;\n",
        "}\n",
        "\n",
        "int main()\n",
        "{\n",
        "clock_t start = clock();\n",
        "float answer = cudaIntegrate(0.0,2.0,2048);\n",
        "clock_t end = clock();\n",
        "cout << \"Wynik to: \" << answer << endl;\n",
        "cout << \"Czas obliczeń: \" << diffclock(end,start);\n",
        "cout << \" mikro sekund\" << endl;\n",
        "return 0;\n",
        "}"
      ],
      "metadata": {
        "colab": {
          "base_uri": "https://localhost:8080/"
        },
        "id": "g8g2VNNh58s2",
        "outputId": "c2f3a10e-5576-4ac9-b717-b5346bc2439e"
      },
      "execution_count": null,
      "outputs": [
        {
          "output_type": "stream",
          "name": "stdout",
          "text": [
            "Wynik to: 34.6813\n",
            "Czas obliczeń: 0.048 mikro sekund\n",
            "\n"
          ]
        }
      ]
    },
    {
      "cell_type": "markdown",
      "source": [
        "Simpsona GPU"
      ],
      "metadata": {
        "id": "QWqD4brp9BjF"
      }
    },
    {
      "cell_type": "code",
      "source": [
        "%%cu\n",
        "#include <stdio.h>\n",
        "#include <iostream>\n",
        "using namespace std;\n",
        "__device__ float myfunction(float a)\n",
        "{\n",
        "return 7*a*a + a + 7.0f;\n",
        "}\n",
        "\n",
        "__device__ void setLimit(int* n_start, int* n_end, int n, int bloki, int blokiwidth)\n",
        "{\n",
        "int threadId = blokiwidth * blockIdx.x + threadIdx.x;\n",
        "int nextThreadId = threadId + 1;\n",
        " \n",
        "int threads = blokiwidth * bloki;\n",
        "\n",
        "*n_start = (threadId * n) / threads;\n",
        "*n_end = (nextThreadId * n) / threads;\n",
        "}\n",
        "\n",
        "__device__ void calculateParabola(int bloki, int rdzenie, \n",
        "  double x0, double xn, int N, float* result)\n",
        "{\n",
        "*result = 0;\n",
        "float h = (xn - x0) / N;\n",
        "int idx_start;\n",
        "int idx_end;\n",
        "setLimit(&idx_start, &idx_end, N-1, bloki, rdzenie);\n",
        "for (int i = idx_start; i < idx_end; i += 2) \n",
        "{\n",
        "*result += (myfunction(x0 + h * (i - 1)) + 4 * myfunction(x0 + h * i) +\n",
        " myfunction(x0 + h * (i + 1))) * h / 3;\n",
        "}\n",
        "}\n",
        "\n",
        "// funkcja wykorzystana do obliczenia sumy w metodzie Simpsona\n",
        "__global__ void mtSimpsona(int bloki, int rdzenie, float* result, float x0, float xn, int N)\n",
        "{\n",
        "float wynik = 0;\n",
        "calculateParabola(bloki, rdzenie, x0, xn, N, &wynik);\n",
        "result[(blockIdx.x * rdzenie + threadIdx.x)] = wynik;\n",
        "}\n",
        "\n",
        "//simpson() jest funkcją hosta, która ustawia obliczenia całki po przedziale [x0,xn]\n",
        "__host__ float simpson(float x0, float xn, int N)\n",
        "{\n",
        "const int bloki = 32;\n",
        "const int rdzenie = 32;\n",
        " \n",
        "float* a_d;\n",
        "float a_h[rdzenie * bloki] = {0};\n",
        " \n",
        "cudaMalloc((void**)&a_d, sizeof(float) * rdzenie * bloki);\n",
        "mtSimpsona << <bloki, rdzenie>> > (bloki, rdzenie, a_d, x0, xn, N);\n",
        "cudaThreadSynchronize();\n",
        "\n",
        "cudaMemcpy(a_h, a_d, sizeof(float) * rdzenie * bloki, cudaMemcpyDeviceToHost);\n",
        " \n",
        "float sum = 0;\n",
        "for(int i=0; i != rdzenie * bloki; ++i) {\n",
        "  sum += a_h[i];\n",
        "}\n",
        "cudaFree(a_d);\n",
        "return sum;\n",
        "}\n",
        "\n",
        "// funkcja do pomiaru czasu wykonywania programu w mikro sekundach\n",
        "__host__ double diffclock(clock_t clock1, clock_t clock2)\n",
        "{\n",
        "double diffticks = clock1-clock2;\n",
        "double diffms = diffticks/(CLOCKS_PER_SEC/1000);\n",
        "return diffms;\n",
        "}\n",
        "// funkcja main\n",
        "int main()\n",
        "{\n",
        "clock_t start = clock();\n",
        "float x0 = 0.0;\n",
        "float xn = 2.0;\n",
        "int N = 2048;\n",
        "float answer = simpson(x0,xn,N);\n",
        "clock_t end = clock();\n",
        "cout << \"Wynik to: \" << answer << endl;\n",
        "cout << \"Czas obliczeń: \" << diffclock(end,start);\n",
        "cout << \" mikro sekund\" << endl;\n",
        "return 0;\n",
        "}\n"
      ],
      "metadata": {
        "colab": {
          "base_uri": "https://localhost:8080/"
        },
        "id": "jyI8DIqn9Fsm",
        "outputId": "708518a9-df41-4869-b909-7af433be037f"
      },
      "execution_count": null,
      "outputs": [
        {
          "output_type": "stream",
          "name": "stdout",
          "text": [
            "Wynik to: 34.6081\n",
            "Czas obliczeń: 727.801 mikro sekund\n",
            "\n"
          ]
        }
      ]
    },
    {
      "cell_type": "markdown",
      "source": [
        "![image.png](data:image/png;base64,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)"
      ],
      "metadata": {
        "id": "PwWbeeNo9PVh"
      }
    },
    {
      "cell_type": "markdown",
      "source": [
        "# GPU\n",
        "N = 1024\n",
        "\n",
        "Prostokątów: Wynik to: 34.6667\n",
        "Czas obliczeń: 734.809 mikro sekund\n",
        "\n",
        "Trapezów: Wynik to: 34.696\n",
        "Czas obliczeń: 764.423 mikro sekund\n",
        "\n",
        "Simpsona: Wynik to: 69.1305\n",
        "Czas obliczeń: 726.71 mikro sekund\n",
        "\n",
        "N = 2048\n",
        "\n",
        "Prostokątów: Wynik to: 34.6667\n",
        "Czas obliczeń: 736.378 mikro sekund\n",
        "\n",
        "Trapezów: Wynik to: 34.6813\n",
        "Czas obliczeń: 731.819 mikro sekund\n",
        "\n",
        "Simpsona: Wynik to: 34.6081\n",
        "Czas obliczeń: 727.801 mikro sekund\n",
        "\n",
        "N = 4096\n",
        "\n",
        "Prostokątów: Wynik to: 34.6667\n",
        "Czas obliczeń: 727.286 mikro sekund\n",
        "\n",
        "Trapezów: Wynik to: 34.674\n",
        "Czas obliczeń: 731.415 mikro sekund\n",
        "\n",
        "Simpsona: Wynik to: 34.6374  Czas obliczeń: 763.097 mikro sekund\n"
      ],
      "metadata": {
        "id": "MWRoo18W_UzN"
      }
    },
    {
      "cell_type": "markdown",
      "source": [
        "# CPU\n",
        "N = 1024\n",
        "\n",
        "Prostokątów: Wynik to: 34.6667\n",
        "Czas obliczeń: 0.029 mikro sekund\n",
        "\n",
        "Trapezów:Wynik to: 34.696\n",
        "Czas obliczeń: 0.048 mikro sekund\n",
        "\n",
        "\n",
        "\n",
        "N = 2048\n",
        "\n",
        "Prostokątów:Wynik to: 34.6667\n",
        "Czas obliczeń: 0.046 mikro sekund\n",
        "Trapezów: Wynik to: 34.6813\n",
        "Czas obliczeń: 0.048 mikro sekund\n",
        "\n",
        "\n",
        "\n",
        "N = 4096\n",
        "\n",
        "Prostokątów: Wynik to: 34.6667\n",
        "Czas obliczeń: 0.103 mikro sekund\n",
        "\n",
        "Trapezów:Wynik to: 34.674\n",
        "Czas obliczeń: 0.113 mikro sekund"
      ],
      "metadata": {
        "id": "Swjx5qLkDQq3"
      }
    }
  ]
}