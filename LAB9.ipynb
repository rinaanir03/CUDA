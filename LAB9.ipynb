{
  "nbformat": 4,
  "nbformat_minor": 0,
  "metadata": {
    "colab": {
      "provenance": []
    },
    "kernelspec": {
      "name": "python3",
      "display_name": "Python 3"
    },
    "language_info": {
      "name": "python"
    },
    "accelerator": "GPU",
    "gpuClass": "standard"
  },
  "cells": [
    {
      "cell_type": "code",
      "execution_count": null,
      "metadata": {
        "colab": {
          "base_uri": "https://localhost:8080/"
        },
        "id": "DmHtU8X5jb1D",
        "outputId": "a5c8ec38-3dc8-4f55-b3c6-baeacb7c4212"
      },
      "outputs": [
        {
          "output_type": "stream",
          "name": "stdout",
          "text": [
            "nvcc: NVIDIA (R) Cuda compiler driver\n",
            "Copyright (c) 2005-2021 NVIDIA Corporation\n",
            "Built on Sun_Feb_14_21:12:58_PST_2021\n",
            "Cuda compilation tools, release 11.2, V11.2.152\n",
            "Build cuda_11.2.r11.2/compiler.29618528_0\n"
          ]
        }
      ],
      "source": [
        "!nvcc --version"
      ]
    },
    {
      "cell_type": "code",
      "source": [
        "!pip install git+https://github.com/andreinechaev/nvcc4jupyter.git"
      ],
      "metadata": {
        "colab": {
          "base_uri": "https://localhost:8080/"
        },
        "id": "EfaKJC20kzdG",
        "outputId": "b8f325bd-d9a5-48d9-e355-7a5097a59dc1"
      },
      "execution_count": null,
      "outputs": [
        {
          "output_type": "stream",
          "name": "stdout",
          "text": [
            "Looking in indexes: https://pypi.org/simple, https://us-python.pkg.dev/colab-wheels/public/simple/\n",
            "Collecting git+https://github.com/andreinechaev/nvcc4jupyter.git\n",
            "  Cloning https://github.com/andreinechaev/nvcc4jupyter.git to /tmp/pip-req-build-ybjc6ned\n",
            "  Running command git clone --filter=blob:none --quiet https://github.com/andreinechaev/nvcc4jupyter.git /tmp/pip-req-build-ybjc6ned\n",
            "  Resolved https://github.com/andreinechaev/nvcc4jupyter.git to commit aac710a35f52bb78ab34d2e52517237941399eff\n",
            "  Preparing metadata (setup.py) ... \u001b[?25l\u001b[?25hdone\n",
            "Building wheels for collected packages: NVCCPlugin\n",
            "  Building wheel for NVCCPlugin (setup.py) ... \u001b[?25l\u001b[?25hdone\n",
            "  Created wheel for NVCCPlugin: filename=NVCCPlugin-0.0.2-py3-none-any.whl size=4304 sha256=bfd1e9d8fd27e02925a33f604073722f302ea75f2a08fae4f7ae84cab14751ab\n",
            "  Stored in directory: /tmp/pip-ephem-wheel-cache-ftjz3j19/wheels/f3/08/cc/e2b5b0e1c92df07dbb50a6f024a68ce090f5e7b2316b41756d\n",
            "Successfully built NVCCPlugin\n",
            "Installing collected packages: NVCCPlugin\n",
            "Successfully installed NVCCPlugin-0.0.2\n"
          ]
        }
      ]
    },
    {
      "cell_type": "code",
      "source": [
        "%load_ext nvcc_plugin"
      ],
      "metadata": {
        "colab": {
          "base_uri": "https://localhost:8080/"
        },
        "id": "hIVksW4Yk4MQ",
        "outputId": "b05a3397-f469-413b-85e1-35c0e73f9278"
      },
      "execution_count": null,
      "outputs": [
        {
          "output_type": "stream",
          "name": "stdout",
          "text": [
            "created output directory at /content/src\n",
            "Out bin /content/result.out\n"
          ]
        }
      ]
    },
    {
      "cell_type": "markdown",
      "source": [
        "Śledzenie promieni, wsteczne śledzenie promieni (ang. ray tracing, backward raytracing) – technika generowania fotorealistycznych obrazów scen trójwymiarowych opierająca się na analizowaniu tylko tych promieni światła, które trafiają bezpośrednio do obserwatora. W rekursywnym śledzeniu promieni bada się dodatkowo promienie odbite, zwierciadlane oraz załamane. Ponadto umożliwia łatwą realizację CSG, a także wizualizację idealnych, opisywanych formułami matematycznymi obiektów. Odwrotne podejście do techniki śledzenia promieni realizuje metoda prostego śledzenie promieni (ang. forward raytracing). "
      ],
      "metadata": {
        "id": "9SzJ7M_Jk8aZ"
      }
    },
    {
      "cell_type": "code",
      "source": [
        "%%cu\n",
        "#include <stdio.h>\n",
        "\n",
        "#define DIM 1024\n",
        "#define rnd( x ) (x * rand() / RAND_MAX)\n",
        "#define INF     2e10f\n",
        "struct Sphere {\n",
        "    float   r,b,g;\n",
        "    float   radius;\n",
        "    float   x,y,z;\n",
        "    __device__ float hit( float ox, float oy, float *n ) {\n",
        "        float dx = ox - x;\n",
        "        float dy = oy - y;\n",
        "        if (dx*dx + dy*dy < radius*radius) {\n",
        "            float dz = sqrtf( radius*radius - dx*dx - dy*dy );\n",
        "            *n = dz / sqrtf( radius * radius );\n",
        "            return dz + z;\n",
        "        }\n",
        "        return -INF;\n",
        "    }\n",
        "};\n",
        "#define SPHERES 20\n",
        "\n",
        "\n",
        "__global__ void kernel( Sphere *s, unsigned char *ptr ) {\n",
        "    // map from threadIdx/BlockIdx to pixel position\n",
        "    int x = threadIdx.x + blockIdx.x * blockDim.x;\n",
        "    int y = threadIdx.y + blockIdx.y * blockDim.y;\n",
        "    int offset = x + y * blockDim.x * gridDim.x;\n",
        "    float   ox = (x - DIM/2);\n",
        "    float   oy = (y - DIM/2);\n",
        "\n",
        "    float   r=0, g=0, b=0;\n",
        "    float   maxz = -INF;\n",
        "    for(int i=0; i<SPHERES; i++) {\n",
        "        float   n;\n",
        "        float   t = s[i].hit( ox, oy, &n );\n",
        "        if (t > maxz) {\n",
        "            float fscale = n;\n",
        "            r = s[i].r * fscale;\n",
        "            g = s[i].g * fscale;\n",
        "            b = s[i].b * fscale;\n",
        "            maxz = t;\n",
        "        }\n",
        "    } \n",
        "\n",
        "    ptr[offset*4 + 0] = (int)(r * 255);\n",
        "    ptr[offset*4 + 1] = (int)(g * 255);\n",
        "    ptr[offset*4 + 2] = (int)(b * 255);\n",
        "}\n",
        "\n",
        "\n",
        "// globals needed by the update routine\n",
        "struct DataBlock {\n",
        "    unsigned char *dev_bitmap;\n",
        "};\n",
        "\n",
        "void save_to_file(unsigned char *ptr) {\n",
        "    FILE *fp=fopen(\"GPU_RayTracing.txt\", \"w\");\n",
        "    fprintf(fp, \"%d %d\\n\", DIM, DIM);\n",
        "    for(int y=0; y<DIM; y++){\n",
        "        for(int x=0; x<DIM; x++){\n",
        "            int offset = x+y*DIM;\n",
        "            fprintf(fp, \"%d, %d, %d \", ptr[offset*4+0], ptr[offset*4+1], ptr[offset*4+2]);\n",
        "        }\n",
        "    }\n",
        "    fclose(fp);\n",
        "}\n",
        "\n",
        "int main( void ) {\n",
        "    // capture the start time\n",
        "    cudaEvent_t     start, stop;\n",
        "    cudaEventCreate( &start );\n",
        "    cudaEventCreate( &stop );\n",
        "    cudaEventRecord( start, 0 );\n",
        "\n",
        "    DataBlock data;\n",
        "    unsigned char *bitmap = (unsigned char*)malloc(DIM*DIM*4*sizeof(unsigned char));\n",
        "    int image_size = DIM*DIM*4;\n",
        "    unsigned char *dev_bitmap;\n",
        "\n",
        "    // allocate memory on the GPU for the output bitmap\n",
        "    cudaMalloc((void**)&dev_bitmap, image_size);\n",
        "    data.dev_bitmap = dev_bitmap;\n",
        "    Sphere *s;\n",
        "    cudaMalloc((void**)&s, sizeof(Sphere) * SPHERES );\n",
        "\n",
        "    // allocate temp memory, initialize it, copy to\n",
        "    // memory on the GPU, then free our temp memory\n",
        "    Sphere *temp_s = (Sphere*)malloc( sizeof(Sphere) * SPHERES );\n",
        "    for (int i=0; i<SPHERES; i++) {\n",
        "        temp_s[i].r = rnd( 1.0f );\n",
        "        temp_s[i].g = rnd( 1.0f );\n",
        "        temp_s[i].b = rnd( 1.0f );\n",
        "        temp_s[i].x = rnd( 1000.0f ) - 500;\n",
        "        temp_s[i].y = rnd( 1000.0f ) - 500;\n",
        "        temp_s[i].z = rnd( 1000.0f ) - 500;\n",
        "        temp_s[i].radius = rnd( 100.0f ) + 20;\n",
        "    }\n",
        "    cudaMemcpy( s, temp_s, sizeof(Sphere) * SPHERES, cudaMemcpyHostToDevice );\n",
        "    free( temp_s );\n",
        "\n",
        "    // generate a bitmap from our sphere data\n",
        "    dim3    grids(DIM/16,DIM/16);\n",
        "    dim3    threads(16,16);\n",
        "    kernel<<<grids,threads>>>( s, dev_bitmap );\n",
        "\n",
        "    // copy our bitmap back from the GPU for display\n",
        "    cudaMemcpy( bitmap, dev_bitmap, image_size, cudaMemcpyDeviceToHost );\n",
        "\n",
        "    // get stop time, and display the timing results\n",
        "    cudaEventRecord( stop, 0 );\n",
        "    cudaEventSynchronize( stop );\n",
        "    float   elapsedTime;\n",
        "    cudaEventElapsedTime( &elapsedTime, start, stop );\n",
        "    printf( \"Time to generate:  %3.1f ms\\n\", elapsedTime );\n",
        "\n",
        "    cudaEventDestroy( start );\n",
        "    cudaEventDestroy( stop );\n",
        "\n",
        "    cudaFree( dev_bitmap );\n",
        "    cudaFree( s );\n",
        "\n",
        "    save_to_file(bitmap);\n",
        "}\n"
      ],
      "metadata": {
        "colab": {
          "base_uri": "https://localhost:8080/"
        },
        "id": "CV-jv3H8mzrM",
        "outputId": "f5261a68-be74-4525-bb3f-66d48448f5b0"
      },
      "execution_count": null,
      "outputs": [
        {
          "output_type": "stream",
          "name": "stdout",
          "text": [
            "Time to generate:  1.3 ms\n",
            "\n"
          ]
        }
      ]
    },
    {
      "cell_type": "markdown",
      "source": [
        "Time to generate:  12.1 ms DIM 2048\n",
        "\n",
        "\n",
        "Time to generate:  1.3 ms  DIM 1024\n",
        "\n",
        "\n",
        "\n"
      ],
      "metadata": {
        "id": "pCpPE2dinZxh"
      }
    },
    {
      "cell_type": "code",
      "source": [
        "import re\n",
        "import numpy as np\n",
        "from PIL import Image\n",
        "from pathlib import Path\n",
        "\n",
        "contents = Path('GPU_RayTracing.txt').read_text()\n",
        "\n",
        "h, w, *pixels = re.findall(r'[0-9]+', contents)\n",
        "\n",
        "na = np.array(pixels, dtype=np.uint8).reshape((int(h),int(w),3))\n",
        "\n",
        "Image.fromarray(na).save(\"wynikGPU_RT.png\")"
      ],
      "metadata": {
        "id": "5f_6aiDqn2ar"
      },
      "execution_count": null,
      "outputs": []
    },
    {
      "cell_type": "code",
      "source": [
        "%%cu\n",
        "#include <stdio.h>\n",
        "\n",
        "#define DIM 1024\n",
        "#define rnd( x ) (x * rand() / RAND_MAX)\n",
        "#define INF     2e10f\n",
        "struct Sphere {\n",
        "    float   r,b,g;\n",
        "    float   radius;\n",
        "    float   x,y,z;\n",
        "    float hit( float ox, float oy, float *n ) {\n",
        "        float dx = ox - x;\n",
        "        float dy = oy - y;\n",
        "        if (dx*dx + dy*dy < radius*radius) {\n",
        "            float dz = sqrtf( radius*radius - dx*dx - dy*dy );\n",
        "            *n = dz / sqrtf( radius * radius );\n",
        "            return dz + z;\n",
        "        }\n",
        "        return -INF;\n",
        "    }\n",
        "};\n",
        "#define SPHERES 20\n",
        "\n",
        "\n",
        "void kernel( Sphere *s, unsigned char *ptr ) {\n",
        "    for(int y=0; y<DIM; y++){\n",
        "        for(int x=0; x<DIM; x++){\n",
        "                float ox = (x-DIM/2);\n",
        "                float oy = (y-DIM/2);\n",
        "                float r=0, g=0,b=0;\n",
        "                float maxz = -INF;\n",
        "                int offset = x + y * DIM;  \n",
        "                \n",
        "          for(int i=0; i<SPHERES; i++){                   \n",
        "                float n;\n",
        "                float t = s[i].hit( ox, oy, &n);\n",
        "                if( t > maxz) {\n",
        "                    float fscale = n;\n",
        "                    r=s[i].r * fscale;\n",
        "                    g=s[i].g * fscale;\n",
        "                    b=s[i].b * fscale;\n",
        "                    maxz = t;\n",
        "        }\n",
        "    } \n",
        "\n",
        "    ptr[offset*4 + 0] = (int)(r * 255);\n",
        "    ptr[offset*4 + 1] = (int)(g * 255);\n",
        "    ptr[offset*4 + 2] = (int)(b * 255);\n",
        "}\n",
        "    }\n",
        "}\n",
        "\n",
        "struct DataBlock {\n",
        "    unsigned char *dev_bitmap;\n",
        "};\n",
        "\n",
        "void save_to_file(unsigned char *ptr) {\n",
        "    FILE *fp=fopen(\"CPU_RayTracing.txt\", \"w\");\n",
        "    fprintf(fp, \"%d %d\\n\", DIM, DIM);\n",
        "    for(int y=0; y<DIM; y++){\n",
        "        for(int x=0; x<DIM; x++){\n",
        "            int offset = x+y*DIM;\n",
        "            fprintf(fp, \"%d, %d, %d \", ptr[offset*4+0], ptr[offset*4+1], ptr[offset*4+2]);\n",
        "        }\n",
        "    }\n",
        "    fclose(fp);\n",
        "}\n",
        "\n",
        "int main( void ) {\n",
        "    // capture the start time\n",
        "    cudaEvent_t     start, stop;\n",
        "    cudaEventCreate( &start );\n",
        "    cudaEventCreate( &stop );\n",
        "    cudaEventRecord( start, 0 );\n",
        "\n",
        "    DataBlock data;\n",
        "    unsigned char *bitmap = (unsigned char*)malloc(DIM*DIM*4*sizeof(unsigned char));\n",
        "    Sphere *s;\n",
        "    Sphere *temp_s = (Sphere*)malloc( sizeof(Sphere) * SPHERES );\n",
        "    s = temp_s;\n",
        "    for (int i=0; i<SPHERES; i++) {\n",
        "        temp_s[i].r = rnd( 1.0f );\n",
        "        temp_s[i].g = rnd( 1.0f );\n",
        "        temp_s[i].b = rnd( 1.0f );\n",
        "        temp_s[i].x = rnd( 1000.0f ) - 500;\n",
        "        temp_s[i].y = rnd( 1000.0f ) - 500;\n",
        "        temp_s[i].z = rnd( 1000.0f ) - 500;\n",
        "        temp_s[i].radius = rnd( 100.0f ) + 20;\n",
        "    }\n",
        "    kernel(s, bitmap);\n",
        "\n",
        "\n",
        "    // get stop time, and display the timing results\n",
        "    cudaEventRecord( stop, 0 );\n",
        "    cudaEventSynchronize( stop );\n",
        "    float   elapsedTime;\n",
        "    cudaEventElapsedTime( &elapsedTime, start, stop );\n",
        "    printf( \"Time to generate:  %3.1f ms\\n\", elapsedTime );\n",
        "    cudaEventDestroy( start );\n",
        "    cudaEventDestroy( stop );\n",
        "\n",
        "    save_to_file(bitmap);\n",
        "}\n"
      ],
      "metadata": {
        "colab": {
          "base_uri": "https://localhost:8080/"
        },
        "id": "dx5Fw8FIoa93",
        "outputId": "7f8074f5-2b6b-4d5c-e613-0cc2ec6a7e68"
      },
      "execution_count": null,
      "outputs": [
        {
          "output_type": "stream",
          "name": "stdout",
          "text": [
            "Time to generate:  149.0 ms\n",
            "\n"
          ]
        }
      ]
    },
    {
      "cell_type": "markdown",
      "source": [
        "Time to generate:  616.8 ms DIM 2048\n",
        "\n",
        "Time to generate:  149.0 ms DIM 1024\n",
        "\n",
        "\n",
        "\n",
        "\n",
        "\n"
      ],
      "metadata": {
        "id": "z5rdhZHTo6_n"
      }
    },
    {
      "cell_type": "code",
      "source": [
        "import re\n",
        "import numpy as np\n",
        "from PIL import Image\n",
        "from pathlib import Path\n",
        "\n",
        "contents = Path('CPU_RayTracing.txt').read_text()\n",
        "\n",
        "h, w, *pixels = re.findall(r'[0-9]+', contents)\n",
        "\n",
        "na = np.array(pixels, dtype=np.uint8).reshape((int(h),int(w),3))\n",
        "\n",
        "Image.fromarray(na).save(\"wynikCPU_RT.png\")"
      ],
      "metadata": {
        "id": "aZu4w6_CpON6"
      },
      "execution_count": null,
      "outputs": []
    },
    {
      "cell_type": "code",
      "source": [
        "import matplotlib.pyplot as plt\n",
        "import numpy as np\n",
        "def addlabels(x,y):\n",
        "    for i in range(len(x)):\n",
        "        plt.text(i,y[i],y[i])\n",
        "x = np.array([\"1024GPU\", \"1024CPU\", \"2048GPU\", \"2048CPU\"])\n",
        "y = np.array([1.3 , 149.0, 12.1, 616.8])\n",
        "z = y\n",
        "plt.bar(x,y,0.8)\n",
        "addlabels(x, y)\n",
        "plt.show()"
      ],
      "metadata": {
        "colab": {
          "base_uri": "https://localhost:8080/",
          "height": 265
        },
        "id": "4xZoIa-GpmzV",
        "outputId": "385ea751-9c00-412f-ac52-88a58b6b9aaa"
      },
      "execution_count": null,
      "outputs": [
        {
          "output_type": "display_data",
          "data": {
            "text/plain": [
              "<Figure size 432x288 with 1 Axes>"
            ],
            "image/png": "[encoded data removed]"
          },
          "metadata": {
            "needs_background": "light"
          }
        }
      ]
    }
  ]
}