{
  "nbformat": 4,
  "nbformat_minor": 0,
  "metadata": {
    "colab": {
      "provenance": []
    },
    "kernelspec": {
      "name": "python3",
      "display_name": "Python 3"
    },
    "language_info": {
      "name": "python"
    },
    "gpuClass": "standard",
    "accelerator": "GPU"
  },
  "cells": [
    {
      "cell_type": "markdown",
      "source": [
        "# Sprawozdanie z lab8\n",
        "\n",
        "Celem danego sprawozdania jest odwzorowanie roznicy pomiedzy generowaniem zbioru fraktala Mandelbrota na CPU i GPU. Przed rozpoczeciem pracy z kodem musimy przygotowac srodowisko wykonawcze. W jaki sposob to zrobic? Najpierw trzeba zmienic typ srodowiska. Robimy to w taki sposob: \n",
        "\n",
        "1.   Na gornym panelu wybieramy \"Runtime\"\n",
        "2.   W menu mamy przycisk \"Change runtime type\"\n",
        "3.   Hardware accelerator zmienic z \"none\" na \"GPU\"\n",
        "\n",
        "Po wykonaniu tych krokow urochomiamy 3 ponizsze linijki kodu.  "
      ],
      "metadata": {
        "id": "wqrt2zvBLrvw"
      }
    },
    {
      "cell_type": "code",
      "execution_count": null,
      "metadata": {
        "colab": {
          "base_uri": "https://localhost:8080/"
        },
        "id": "WXILJtAw0PVi",
        "outputId": "8b8085d7-0f83-4b28-be89-6ba39027dafb"
      },
      "outputs": [
        {
          "output_type": "stream",
          "name": "stdout",
          "text": [
            "nvcc: NVIDIA (R) Cuda compiler driver\n",
            "Copyright (c) 2005-2021 NVIDIA Corporation\n",
            "Built on Sun_Feb_14_21:12:58_PST_2021\n",
            "Cuda compilation tools, release 11.2, V11.2.152\n",
            "Build cuda_11.2.r11.2/compiler.29618528_0\n"
          ]
        }
      ],
      "source": [
        "!nvcc --version"
      ]
    },
    {
      "cell_type": "code",
      "source": [
        "!pip install git+https://github.com/andreinechaev/nvcc4jupyter.git"
      ],
      "metadata": {
        "colab": {
          "base_uri": "https://localhost:8080/"
        },
        "id": "7oSiu9s92kBk",
        "outputId": "f4f7a1c2-d466-4095-a939-29ad6b0743b7"
      },
      "execution_count": null,
      "outputs": [
        {
          "output_type": "stream",
          "name": "stdout",
          "text": [
            "Looking in indexes: https://pypi.org/simple, https://us-python.pkg.dev/colab-wheels/public/simple/\n",
            "Collecting git+https://github.com/andreinechaev/nvcc4jupyter.git\n",
            "  Cloning https://github.com/andreinechaev/nvcc4jupyter.git to /tmp/pip-req-build-h67bg38r\n",
            "  Running command git clone --filter=blob:none --quiet https://github.com/andreinechaev/nvcc4jupyter.git /tmp/pip-req-build-h67bg38r\n",
            "  Resolved https://github.com/andreinechaev/nvcc4jupyter.git to commit aac710a35f52bb78ab34d2e52517237941399eff\n",
            "  Preparing metadata (setup.py) ... \u001b[?25l\u001b[?25hdone\n",
            "Building wheels for collected packages: NVCCPlugin\n",
            "  Building wheel for NVCCPlugin (setup.py) ... \u001b[?25l\u001b[?25hdone\n",
            "  Created wheel for NVCCPlugin: filename=NVCCPlugin-0.0.2-py3-none-any.whl size=4304 sha256=45ac9bca16d4cbc85df9d8dfb908114dff9220e9e5865ddbbe8235396a295850\n",
            "  Stored in directory: /tmp/pip-ephem-wheel-cache-a6appn4r/wheels/f3/08/cc/e2b5b0e1c92df07dbb50a6f024a68ce090f5e7b2316b41756d\n",
            "Successfully built NVCCPlugin\n",
            "Installing collected packages: NVCCPlugin\n",
            "Successfully installed NVCCPlugin-0.0.2\n"
          ]
        }
      ]
    },
    {
      "cell_type": "code",
      "source": [
        "%load_ext nvcc_plugin"
      ],
      "metadata": {
        "colab": {
          "base_uri": "https://localhost:8080/"
        },
        "id": "pU4U4K_R26bI",
        "outputId": "55176ff2-3323-4b7c-a3b5-168168cd965e"
      },
      "execution_count": null,
      "outputs": [
        {
          "output_type": "stream",
          "name": "stdout",
          "text": [
            "created output directory at /content/src\n",
            "Out bin /content/result.out\n"
          ]
        }
      ]
    },
    {
      "cell_type": "markdown",
      "source": [
        "Po co to robimy? NVCC(Nvidia CUDA compiler) jest kompilatorem, umozliwiajacym pracowac z CUDA.\n",
        "Ponizsze kody beda napisane w jezyku C."
      ],
      "metadata": {
        "id": "RU9y2lKdR44m"
      }
    },
    {
      "cell_type": "markdown",
      "source": [
        "# Co to jest Fraktal?\n",
        "Fraktal nie ma określonej definicji (łac. fractus – złamany, cząstkowy), to obiekt, którego fragment w powiększeniu wygląda podobnie jak całość. Fraktale możemy dowolnie powiększać i nadal widzimy tę samą powtarzającą się strukturę.\n",
        "\n",
        "Zbiór Mandelbrota (zwany też żukiem Mandelbrota) – podzbiór płaszczyzny zespolonej, którego brzeg jest jednym z najbardziej znanych fraktali, „najsłynniejszym obiektem współczesnej matematyki”"
      ],
      "metadata": {
        "id": "xUHGNk82UheQ"
      }
    },
    {
      "cell_type": "markdown",
      "source": [
        "## Opis kodu( wersja CPU)\n",
        "\n",
        "# *Funkcja* *main:*\n",
        "W tej czesci kodu inicjalizujemy pomiar czasu i zmienne, potrzebne do tego\n",
        "```\n",
        "int main(void){\n",
        "cudaEvent_t start, stop;\n",
        "cudaEventCreate(&start);\n",
        "cudaEventCreate(&stop);\n",
        "cudaEventRecord( start, 0 );\n",
        "```\n",
        "Tworzymy mape bitowe, a następnie do funkcji jądra przekazuje wskaźnik na tę mapę\n",
        "```\n",
        " DataBlock data;\n",
        "    unsigned char *bitmap = (unsigned char*)malloc(DIM*DIM*4*sizeof(unsigned char));\n",
        "    int image_size = DIM*DIM*4;\n",
        "    kernel(bitmap);\n",
        "\n",
        "```\n",
        "\n",
        "Zakonczenie i wypisanie pomiaru czasu\n",
        "```\n",
        "cudaEventRecord(stop,0);\n",
        "cudaEventSynchronize(stop);\n",
        "float elapsedTime;\n",
        "cudaEventElapsedTime(&elapsedTime,start,stop);\n",
        "printf(\"Time to generate: %3.1f ms\\n\",elapsedTime);\n",
        "cudaEventDestroy(start);\n",
        "cudaEventDestroy(stop);\n",
        "```\n",
        "Zapisanie danych RGB naszego fraktala\n",
        "```\n",
        "save_to_file(bitmap)\n",
        "```\n",
        "# *Funkcja kernel:*\n",
        "Ta funkcja sprawdza, czy naleza punkty, dla ktorych jest wywolana funkcja mandelbrot(x,y), do zbbioru Mandelbrota. Jesli tak, to punkt przyjmuje kolor zielony. W przeciwnym przypadku kolor bedzie czarny. \n",
        "\n",
        "```\n",
        "void kernel(unsigned char *ptr){\n",
        "    for(int y=0; y<DIM; y++){\n",
        "        for(int x=0; x<DIM; x++){\n",
        "            int offset = x+y*DIM;\n",
        "            int mandelValue = mandelbrot(x,y);\n",
        "            ptr[offset*4+0] = 0;\n",
        "            ptr[offset*4+1] = 255 * mandelValue;\n",
        "            ptr[offset*4+2] = 155 * mandelValue;\n",
        "        }\n",
        "    }\n",
        "}\n",
        "```\n",
        "# *Zapisywanie fraktala*\n",
        "Funkcje wypisujaca wartosci RGB i zapisujaca te dane w plik formatu .txt odpowiednio \n",
        "\n",
        "```\n",
        "struct DataBlock{\n",
        "unsigned char *dev_bitmap;};\n",
        "\n",
        "void wypisz_RGB_fraktal(unsigned char *ptr){\n",
        "for(int y=0; y<DIM; y++){\n",
        "for(int x=0; x<DIM; x++){\n",
        "int offset = x+y*DIM;\n",
        "printf(\"%d,%d,%d \", ptr[offset*4+0], ptr[offset*4+1], ptr[offset*4+2]);}\n",
        "}}\n",
        "\n",
        "void save_to_file(unsigned char *ptr){\n",
        "FILE *fp=fopen(\"Fraktal_CPU.txt\",\"w\");\n",
        "fprintf(fp, \"%d %d\\n\", DIM, DIM);\n",
        "for(int y=0; y<DIM; y++){\n",
        "for(int x=0; x<DIM; x++){\n",
        "int offset=x+y*DIM;\n",
        "fprintf(fp, \"%d,%d,%d \", ptr[offset*4+0], ptr[offset*4+1], ptr[offset*4+2]);}\n",
        "}\n",
        "fclose(fp);}\n",
        "```\n",
        "#*cuComplex*\n",
        "Odpowiada za definicję liczb potrzebnych do liczby zespolonej.\n",
        "\n",
        "\n",
        "```\n",
        " struct cuComplex{\n",
        "    float r;\n",
        "    float i;\n",
        "    cuComplex(float a,float b):r(a),i(b){}\n",
        "    float magnitude2(void){ return r*r+i*i;}\n",
        "    cuComplex operator*(const cuComplex &a) { return cuComplex(r*a.r-i*a.i, i*a.r+r*a.i);}\n",
        "    cuComplex operator+(const cuComplex &a) { return cuComplex(r+a.r, i+a.i);}};\n",
        "```\n",
        "\n",
        "\n",
        "\n",
        "\n",
        "\n",
        "\n",
        "\n"
      ],
      "metadata": {
        "id": "CFzbQMSSVaOS"
      }
    },
    {
      "cell_type": "code",
      "source": [
        "%%cu\n",
        "#include <stdio.h>\n",
        "#define DIM 1000\n",
        "\n",
        "struct cuComplex{\n",
        "    float r;\n",
        "    float i;\n",
        "    cuComplex(float a,float b):r(a),i(b){}\n",
        "    float magnitude2(void){ return r*r+i*i;}\n",
        "    cuComplex operator*(const cuComplex &a) { return cuComplex(r*a.r-i*a.i, i*a.r+r*a.i);}\n",
        "    cuComplex operator+(const cuComplex &a) { return cuComplex(r+a.r, i+a.i);}\n",
        "};\n",
        "\n",
        "int mandelbrot(int x, int y){\n",
        "    const float scale = 1.5;\n",
        "    float jx = scale * (float)(DIM/2-x) / (DIM/2);\n",
        "    float jy = scale * (float)(DIM/2-y) / (DIM/2);\n",
        "    cuComplex p(jx, jy);\n",
        "    cuComplex a(0, 0);\n",
        "    int i = 0;\n",
        "    for (i = 0; i < 200; i++) {\n",
        "        a = a * a + p;\n",
        "        if (a.magnitude2()>1000) \n",
        "        return 0;\n",
        "    }\n",
        "    return 1;\n",
        "}\n",
        "\n",
        "void kernel(unsigned char *ptr){\n",
        "    for(int y=0; y<DIM; y++){\n",
        "        for(int x=0; x<DIM; x++){\n",
        "            int offset = x+y*DIM;\n",
        "            int mandelValue = mandelbrot(x,y);\n",
        "            ptr[offset*4+0] = 0;\n",
        "            ptr[offset*4+1] = 255 * mandelValue;\n",
        "            ptr[offset*4+2] = 155 * mandelValue;\n",
        "        }\n",
        "    }\n",
        "}\n",
        "\n",
        "//Zapis fraktala\n",
        "struct DataBlock{\n",
        "    unsigned char *dev_bitmap;\n",
        "};\n",
        "\n",
        "void wypisz_RGB_fraktal(unsigned char *ptr){\n",
        "    for(int y=0; y<DIM; y++){\n",
        "        for(int x=0; x<DIM; x++){\n",
        "            int offset = x+y*DIM;\n",
        "\n",
        "            printf(\"%d,%d,%d \", ptr[offset*4+0], ptr[offset*4+1], ptr[offset*4+2]);\n",
        "        }\n",
        "    }\n",
        "}\n",
        "\n",
        "void save_to_file(unsigned char *ptr){\n",
        "    FILE *fp=fopen(\"Fraktal_CPU.txt\",\"w\");\n",
        "    fprintf(fp, \"%d %d\\n\", DIM, DIM);\n",
        "    for(int y=0; y<DIM; y++){\n",
        "        for(int x=0; x<DIM; x++){\n",
        "            int offset=x+y*DIM;\n",
        "            fprintf(fp, \"%d,%d,%d \", ptr[offset*4+0], ptr[offset*4+1], ptr[offset*4+2]);\n",
        "        }\n",
        "    }\n",
        "    fclose(fp);\n",
        "}\n",
        "\n",
        "int main(void){\n",
        "cudaEvent_t start, stop;\n",
        "cudaEventCreate(&start);\n",
        "cudaEventCreate(&stop);\n",
        "cudaEventRecord( start, 0 );\n",
        "\n",
        "    DataBlock data;\n",
        "    unsigned char *bitmap = (unsigned char*)malloc(DIM*DIM*4*sizeof(unsigned char));\n",
        "    int image_size = DIM*DIM*4;\n",
        "    kernel(bitmap);\n",
        "\n",
        "//stop pomiaru czasu i obliczenie jego trwania\n",
        "cudaEventRecord(stop,0);\n",
        "cudaEventSynchronize(stop);\n",
        "float elapsedTime;\n",
        "cudaEventElapsedTime(&elapsedTime,start,stop);\n",
        "printf(\"Time to generate: %3.1f ms\\n\",elapsedTime);\n",
        "//wyczyszczenie pamieci\n",
        "cudaEventDestroy(start);\n",
        "cudaEventDestroy(stop);\n",
        "\n",
        "    save_to_file(bitmap);\n",
        "}"
      ],
      "metadata": {
        "colab": {
          "base_uri": "https://localhost:8080/"
        },
        "id": "lhGeXwbl3wUy",
        "outputId": "a66891f3-3b86-4aa5-d5a9-94a0aac50f51"
      },
      "execution_count": null,
      "outputs": [
        {
          "output_type": "stream",
          "name": "stdout",
          "text": [
            "Time to generate: 31535.1 ms\n",
            "\n"
          ]
        }
      ]
    },
    {
      "cell_type": "markdown",
      "source": [
        "***Time to generate: 1375.1 ms*** DIM1000\n",
        "***Time to generate: 31535.1 ms*** DIM 5000"
      ],
      "metadata": {
        "id": "ApDjkS4YbwY3"
      }
    },
    {
      "cell_type": "markdown",
      "source": [
        "Dla zapisywania wartosci do pliku graficznego wykorzystalam nastepujace biblioteki i modulPython'a:\n",
        "\n",
        "*   re, numpy, pathlib\n",
        "*   PIL\n",
        "\n"
      ],
      "metadata": {
        "id": "gQbOYM9Ncmuh"
      }
    },
    {
      "cell_type": "code",
      "source": [
        "import re\n",
        "import numpy as np\n",
        "from PIL import Image\n",
        "from pathlib import Path\n",
        "\n",
        "contents = Path('Fraktal_CPU.txt').read_text()\n",
        "\n",
        "h, w, *pixels = re.findall(r'[0-9]+', contents)\n",
        "\n",
        "na = np.array(pixels, dtype=np.uint8).reshape((int(h),int(w),3))\n",
        "\n",
        "Image.fromarray(na).save(\"wynik_CPU.png\")"
      ],
      "metadata": {
        "id": "MoZpJ6B5AFba"
      },
      "execution_count": null,
      "outputs": []
    },
    {
      "cell_type": "markdown",
      "source": [
        "# Wersja GPU\n",
        "Co zostalo zmienione?\n",
        "\n",
        "\n",
        "*   Przy funkcjach dodalam __global__ oraz __device__\n",
        "*   petla for --> blockldx\n",
        "*   cudaMalloc przechwowywuje potrzebne dane\n",
        "*   dim3 grid(DIM,DIM) tworzy kopie dla punktow dwujwymiarowych \n",
        "*    kernel<<<grid,1>>>(dev_bitmap) przekazuje zmienną grid do systemu wykonawczego\n",
        "\n",
        "\n",
        "\n",
        "\n",
        "\n"
      ],
      "metadata": {
        "id": "rkVN4bvIdzLP"
      }
    },
    {
      "cell_type": "code",
      "source": [
        "%%cu\n",
        "#include <stdio.h>\n",
        "#define DIM 5000\n",
        "\n",
        "struct cuComplex{\n",
        "    float r;\n",
        "    float i;\n",
        "    \n",
        "    __device__ cuComplex(float a, float b):r(a),i(b){}\n",
        "    __device__ float magnitude2(void){ return r*r+i*i;}\n",
        "    __device__ cuComplex operator*(const cuComplex &a) { return cuComplex(r*a.r-i*a.i, i*a.r+r*a.i);}\n",
        "    __device__ cuComplex operator+(const cuComplex &a) { return cuComplex(r+a.r, i+a.i);}\n",
        "};\n",
        "__device__ int mandelbrot(int x, int y) {\n",
        "    const float scale = 1.5;\n",
        "    float jx=scale*(float)(DIM/2-x)/(DIM/2);\n",
        "    float jy=scale*(float)(DIM/2-y)/(DIM/2);\n",
        "    cuComplex p(jx, jy);\n",
        "    cuComplex a(0, 0);\n",
        "    int i = 0;\n",
        "    for (i = 0; i < 200; i++) {\n",
        "        a = a * a + p;\n",
        "        if (a.magnitude2()>1000) \n",
        "        return 0;\n",
        "    }\n",
        "    return 1;\n",
        "}\n",
        "\n",
        "__global__ void kernel( unsigned char *ptr ) {\n",
        "// Odwzorowanie z blockldx na współrzędne piksela\n",
        "int x = blockIdx.x;\n",
        "int y = blockIdx.y;\n",
        "int offset = x + y * gridDim.x;\n",
        "// Obliczenie wartości dla tego punktu\n",
        "int mandelValue = mandelbrot ( x, y );\n",
        "ptr[offset*4 + 0] = 255 * mandelValue;\n",
        "ptr[offset*4 + 1] = 0;\n",
        "ptr[offset*4 +2] = 255 * mandelValue;\n",
        "}\n",
        "\n",
        "//Zapis fraktala\n",
        "struct DataBlock{\n",
        "    unsigned char *dev_bitmap;\n",
        "};\n",
        "\n",
        "void wypisz_RGB_fraktal(unsigned char *ptr){\n",
        "    for(int y=0; y<DIM; y++){\n",
        "        for(int x=0; x<DIM; x++){\n",
        "            int offset = x+y*DIM;\n",
        "\n",
        "            printf(\"%d, %d, %d \", ptr[offset*4+0], ptr[offset*4+1], ptr[offset*4+2]);\n",
        "        }\n",
        "    }\n",
        "}\n",
        "\n",
        "void save_to_file(unsigned char *ptr){\n",
        "    FILE *fp=fopen(\"Fraktal_GPU.txt\",\"w\");\n",
        "    fprintf(fp, \"%d %d\\n\", DIM, DIM);\n",
        "    for(int y=0; y<DIM; y++){\n",
        "        for(int x=0; x<DIM; x++){\n",
        "            int offset=x+y*DIM;\n",
        "            fprintf(fp, \"%d, %d, %d \", ptr[offset*4+0], ptr[offset*4+1], ptr[offset*4+2]);\n",
        "        }\n",
        "    }\n",
        "    fclose(fp);\n",
        "}\n",
        "\n",
        "int main(void){\n",
        "cudaEvent_t start, stop;\n",
        "cudaEventCreate(&start);\n",
        "cudaEventCreate(&stop);\n",
        "cudaEventRecord( start, 0 );\n",
        "\n",
        "\n",
        "DataBlock data;\n",
        "unsigned char *bitmap = (unsigned char*)malloc(DIM*DIM*4*sizeof(unsigned char));\n",
        "int image_size = DIM*DIM*4;\n",
        "unsigned char *dev_bitmap;\n",
        "cudaMalloc((void**)&dev_bitmap, image_size);\n",
        "data.dev_bitmap=dev_bitmap;\n",
        "dim3 grid(DIM,DIM);\n",
        "kernel<<<grid,1>>>(dev_bitmap);\n",
        "cudaMemcpy(bitmap,dev_bitmap,image_size,cudaMemcpyDeviceToHost);\n",
        "\n",
        "//stop pomiaru czasu i obliczenie jego trwania\n",
        "cudaEventRecord(stop,0);\n",
        "cudaEventSynchronize(stop);\n",
        "float elapsedTime;\n",
        "cudaEventElapsedTime(&elapsedTime,start,stop);\n",
        "printf(\"Time to generate: %3.1f ms\\n\",elapsedTime);\n",
        "//wyczyszczenie pamieci\n",
        "cudaEventDestroy(start);\n",
        "cudaEventDestroy(stop);\n",
        "\n",
        "cudaFree(dev_bitmap);\n",
        "save_to_file (bitmap);\n",
        "}"
      ],
      "metadata": {
        "colab": {
          "base_uri": "https://localhost:8080/"
        },
        "id": "RCTcVneoCX1C",
        "outputId": "7617a6be-b187-491a-bb9e-20b736ade79a"
      },
      "execution_count": null,
      "outputs": [
        {
          "output_type": "stream",
          "name": "stdout",
          "text": [
            "Time to generate: 297.4 ms\n",
            "\n"
          ]
        }
      ]
    },
    {
      "cell_type": "markdown",
      "source": [
        "***Time to generate: 10.3 ms*** DIM1000\n",
        "***Time to generate: 297.4 ms*** DIM5000"
      ],
      "metadata": {
        "id": "AAT-kiBChCwM"
      }
    },
    {
      "cell_type": "code",
      "source": [
        "import re\n",
        "import numpy as np\n",
        "from PIL import Image\n",
        "from pathlib import Path\n",
        "\n",
        "contents = Path('Fraktal_GPU.txt').read_text()\n",
        "\n",
        "h, w, *pixels = re.findall(r'[0-9]+', contents)\n",
        "\n",
        "na = np.array(pixels, dtype=np.uint8).reshape((int(h),int(w),3))\n",
        "\n",
        "Image.fromarray(na).save(\"wynik_GPU.png\")"
      ],
      "metadata": {
        "id": "8JGjnEeyJ_MV"
      },
      "execution_count": null,
      "outputs": []
    },
    {
      "cell_type": "markdown",
      "source": [
        "# Wykresy zrealizowalam przy pomocy biblioteki matplotlib."
      ],
      "metadata": {
        "id": "a-VcrmUdhghi"
      }
    },
    {
      "cell_type": "code",
      "source": [
        "import matplotlib.pyplot as plt\n",
        "import numpy as np\n",
        "def addlabels(x,y):\n",
        "    for i in range(len(x)):\n",
        "        plt.text(i,y[i],y[i])\n",
        "x = np.array([\"1kCPU\", \"1kGPU\", \"5kCPU\", \"5kGPU\"])\n",
        "y = np.array([1375.1 , 10.3, 31535.1, 297.4])\n",
        "z = y\n",
        "plt.bar(x,y,0.8)\n",
        "addlabels(x, y)\n",
        "plt.show()"
      ],
      "metadata": {
        "colab": {
          "base_uri": "https://localhost:8080/",
          "height": 265
        },
        "id": "5gw03XDdg86i",
        "outputId": "c8327763-379e-4c2d-cea6-0bfecf50b869"
      },
      "execution_count": null,
      "outputs": [
        {
          "output_type": "display_data",
          "data": {
            "text/plain": [
              "<Figure size 432x288 with 1 Axes>"
            ],
            "image/png": "[encoded data removed]"
          },
          "metadata": {
            "needs_background": "light"
          }
        }
      ]
    },
    {
      "cell_type": "markdown",
      "source": [
        "Dla DIM = 1000 opcja GPU poradziła sobie 137 razy szybciej, a dla DIM = 5000 CPU przetwarzało program 106 razy dłużej."
      ],
      "metadata": {
        "id": "6zVdQwZoikgW"
      }
    }
  ]
}